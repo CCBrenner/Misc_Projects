{
 "cells": [
  {
   "cell_type": "code",
   "execution_count": 1,
   "metadata": {},
   "outputs": [],
   "source": [
    "#\"Display the game.\"\n",
    "def display_board(position):\n",
    "    \n",
    "    print(' '+position[1]+' | '+position[2]+' | '+position[3])\n",
    "    print(' '+position[4]+' | '+position[5]+' | '+position[6])\n",
    "    print(' '+position[7]+' | '+position[8]+' | '+position[9])    "
   ]
  },
  {
   "cell_type": "code",
   "execution_count": 2,
   "metadata": {},
   "outputs": [],
   "source": [
    "#\"Who would like to be X and who would like to be O?\"\"\n",
    "def player_mark_choice():\n",
    "    \n",
    "    \"\"\"\n",
    "    OUTPUT soomething like\n",
    "    player1, player2 = (Player_1 , Player 2)\n",
    "    \"\"\"\n",
    "    \n",
    "    mark = ''\n",
    "    \n",
    "    while mark != 'X' and mark != 'O':\n",
    "        mark = input('Player 1: Would you like to play as X or O? ').upper()\n",
    "    \n",
    "    if mark == 'X':\n",
    "        return ('X', 'O')\n",
    "    else:\n",
    "        return ('O', 'X')"
   ]
  },
  {
   "cell_type": "code",
   "execution_count": 3,
   "metadata": {},
   "outputs": [],
   "source": [
    "#\"Assign the marker to this position on the board.\"\"\n",
    "def place_marker(board, position, marker):\n",
    "    \n",
    "    board[position] = marker"
   ]
  },
  {
   "cell_type": "code",
   "execution_count": 4,
   "metadata": {},
   "outputs": [],
   "source": [
    "#\"Did somebody win?\"\n",
    "def win_check(board, mark):\n",
    "    \n",
    "    if ((board[1] == board[2] == board[3] == mark) or #top row\n",
    "        (board[4] == board[5] == board[6] == mark) or #middle row\n",
    "        (board[7] == board[8] == board[9] == mark) or #bottom row\n",
    "        (board[1] == board[4] == board[7] == mark) or #left column\n",
    "        (board[2] == board[5] == board[8] == mark) or #middle column\n",
    "        (board[3] == board[6] == board[9] == mark) or #right column\n",
    "        (board[1] == board[5] == board[9] == mark) or #up-left diagonal\n",
    "        (board[3] == board[5] == board[7] == mark)):  #up-right diagonal\n",
    "        return True\n",
    "    else:\n",
    "        return False"
   ]
  },
  {
   "cell_type": "code",
   "execution_count": 5,
   "metadata": {},
   "outputs": [],
   "source": [
    "#\"Have all of the positions been taken?\"\n",
    "def full_board_check(board):\n",
    "    \n",
    "    if ' ' not in board:\n",
    "        return True\n",
    "    else:\n",
    "        return False"
   ]
  },
  {
   "cell_type": "code",
   "execution_count": 6,
   "metadata": {},
   "outputs": [],
   "source": [
    "#import random\n",
    "\n",
    "#\"Who shall go first? Doesn't matter but I want to be fair.\"\n",
    "def order_choice():\n",
    "    \n",
    "    import random\n",
    "    \n",
    "    if random.randint(0,1) == 0:\n",
    "        return ('1', 1)\n",
    "    else:\n",
    "        return ('2', 2)"
   ]
  },
  {
   "cell_type": "code",
   "execution_count": 7,
   "metadata": {},
   "outputs": [],
   "source": [
    "#\"Was this position on the board already taken?\"\n",
    "def space_check(board, position):\n",
    "    \n",
    "    if board[position] == ' ':\n",
    "        return True\n",
    "    else:\n",
    "        print('That position is already taken.')\n",
    "        print('')\n",
    "        display_board(board)\n",
    "        print('')\n",
    "        return False"
   ]
  },
  {
   "cell_type": "code",
   "execution_count": 8,
   "metadata": {},
   "outputs": [],
   "source": [
    "#\"Where would you like to put your mark?\"\n",
    "def player_position_choice(player, board):\n",
    "    \n",
    "    while True:\n",
    "        choice = input('Player ' + player + ' : Choose a position from 1 to 9. ')\n",
    "        if choice in ['1','2','3','4','5','6','7','8','9']:\n",
    "            return int(choice)"
   ]
  },
  {
   "cell_type": "code",
   "execution_count": 9,
   "metadata": {},
   "outputs": [],
   "source": [
    "#\"How does the board placement work?/How do the controls work?\"\n",
    "def explain_board():\n",
    "    \n",
    "    print(' 1 | 2 | 3 ')\n",
    "    print(' 4 | 5 | 6 ')\n",
    "    print(' 7 | 8 | 9 ')\n",
    "    print('')\n",
    "    print(\"This is how the board is laid out. The number each player enters as their position will place their mark at the corresponding position on the board. The layout is like that of a phone's dial pad.\")"
   ]
  },
  {
   "cell_type": "code",
   "execution_count": 10,
   "metadata": {},
   "outputs": [],
   "source": [
    "#\"Would you like to play again?\"\n",
    "def replay():\n",
    "    \n",
    "    answer = input('Would you like to play again?').upper()\n",
    "    \n",
    "    if answer == 'YES' or answer == 'Y':\n",
    "        return True\n",
    "    elif answer == 'NO' or answer == 'N':\n",
    "        return False"
   ]
  },
  {
   "cell_type": "code",
   "execution_count": 11,
   "metadata": {},
   "outputs": [
    {
     "name": "stdout",
     "output_type": "stream",
     "text": [
      "\n",
      " X | X | X\n",
      " O | O |  \n",
      "   |   |  \n",
      "\n",
      "Player 1 has won the game as X !!!\n",
      "\n",
      "Would you like to play again?n\n"
     ]
    }
   ],
   "source": [
    "def tic_tac_toe():\n",
    "    \n",
    "    from IPython.display import clear_output\n",
    "    \n",
    "    the_board = ['#', ' ', ' ', ' ', ' ', ' ', ' ', ' ', ' ', ' ']\n",
    "    player_mark = ['#', '1', '2']\n",
    "    \n",
    "    #Start of game code\n",
    "    while True:\n",
    "        print('Welcome to Tic-Tac-Toe! (coded by Collyn Christopher Brenner)')\n",
    "        print('')\n",
    "        explain_board()\n",
    "        print('')\n",
    "        display_board(the_board)\n",
    "        print('')\n",
    "        player_mark[1], player_mark[2] = player_mark_choice()\n",
    "        current_player_str, current_player_int = order_choice()\n",
    "        print(f'With a flip of a coint it is decided that Player {current_player_str} will go first.')\n",
    "\n",
    "        while True:\n",
    "            choice = player_position_choice(current_player_str, the_board)\n",
    "            if space_check(the_board, choice):\n",
    "                place_marker(the_board, choice, player_mark[current_player_int])\n",
    "                clear_output()\n",
    "                print('')\n",
    "                display_board(the_board)\n",
    "                print('')\n",
    "                if win_check(the_board, player_mark[current_player_int]):\n",
    "                    print(f'Player {current_player_int} has won the game as {player_mark[current_player_int]} !!!')\n",
    "                    print('')\n",
    "                    break\n",
    "                elif full_board_check(the_board):\n",
    "                    print('Looks like the board is full. Game Over.')\n",
    "                    print('')\n",
    "                    break\n",
    "                else:\n",
    "                    if current_player_str == '1':\n",
    "                        current_player_str = '2'\n",
    "                        current_player_int = 2\n",
    "                    else:\n",
    "                        current_player_str = '1'\n",
    "                        current_player_int = 1\n",
    "        if replay():\n",
    "            clear_output()\n",
    "            the_board = ['#', ' ', ' ', ' ', ' ', ' ', ' ', ' ', ' ', ' ']\n",
    "            player_mark = ['#', '1', '2']\n",
    "            print('')\n",
    "        else:\n",
    "            break\n",
    "            \n",
    "tic_tac_toe()"
   ]
  },
  {
   "cell_type": "code",
   "execution_count": null,
   "metadata": {},
   "outputs": [],
   "source": [
    "\"\"\"\n",
    "- decide to play\n",
    "- draw the board\n",
    "- choose who's going to be X and who's going to be O\n",
    "- determine who goes first (normally X does)\n",
    "- use pencil to mark location of each turn\n",
    "- once someone has either three in a row OR the board is full, then the game ends\n",
    "- choose whether to play again or not\n",
    "\n",
    "- take turns placing your mars on the board\n",
    "- you can't place your mark over someone else' mark\n",
    "- you win by having three of your marks in a line either horizonatlly, vertically, or diagonally\n",
    "- if the board fills up, you can't take another turn and the game is over; every game has a maximum of 9 turns\n",
    "\"\"\""
   ]
  },
  {
   "cell_type": "code",
   "execution_count": null,
   "metadata": {},
   "outputs": [],
   "source": []
  },
  {
   "cell_type": "code",
   "execution_count": null,
   "metadata": {},
   "outputs": [],
   "source": []
  },
  {
   "cell_type": "code",
   "execution_count": null,
   "metadata": {},
   "outputs": [],
   "source": []
  },
  {
   "cell_type": "code",
   "execution_count": null,
   "metadata": {},
   "outputs": [],
   "source": []
  },
  {
   "cell_type": "code",
   "execution_count": null,
   "metadata": {},
   "outputs": [],
   "source": []
  }
 ],
 "metadata": {
  "kernelspec": {
   "display_name": "Python 3",
   "language": "python",
   "name": "python3"
  },
  "language_info": {
   "codemirror_mode": {
    "name": "ipython",
    "version": 3
   },
   "file_extension": ".py",
   "mimetype": "text/x-python",
   "name": "python",
   "nbconvert_exporter": "python",
   "pygments_lexer": "ipython3",
   "version": "3.8.5"
  }
 },
 "nbformat": 4,
 "nbformat_minor": 4
}
